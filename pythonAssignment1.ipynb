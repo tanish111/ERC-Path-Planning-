{
  "nbformat": 4,
  "nbformat_minor": 0,
  "metadata": {
    "colab": {
      "provenance": [],
      "include_colab_link": true
    },
    "kernelspec": {
      "name": "python3",
      "display_name": "Python 3"
    },
    "language_info": {
      "name": "python"
    }
  },
  "cells": [
    {
      "cell_type": "markdown",
      "metadata": {
        "id": "view-in-github",
        "colab_type": "text"
      },
      "source": [
        "<a href=\"https://colab.research.google.com/github/tanish111/ERC-Path-Planning-/blob/main/pythonAssignment1.ipynb\" target=\"_parent\"><img src=\"https://colab.research.google.com/assets/colab-badge.svg\" alt=\"Open In Colab\"/></a>"
      ]
    },
    {
      "cell_type": "markdown",
      "source": [
        "                                          Path Planning Assignment 1\n",
        "Hello Guys, This is the assignment I want you guys to solve. This will help you guys to understand the basics of python and allow you guys to impelement some of the things that you have learnt up until now.For this assignment , I want you to complete the functions needed to solve the problem given. To properly complete the assignment, USE THE INPUTS GIVEN IN THE EXAMPLE.If you are finding some difficulty solving any one of these problems , please feel free to contact one of us"
      ],
      "metadata": {
        "id": "m4_Ig_EQyB1r"
      }
    },
    {
      "cell_type": "markdown",
      "source": [
        "Q1) Given an array of integers nums and an integer target, return indices of the two numbers such that they add up to target.\n",
        "You may assume that each input would have exactly one solution, and you may not use the same element twice.\n",
        "You can return the answer in any order.\n",
        "\n",
        "Example :\n",
        "\n",
        "Input: nums = [2,7,11,15], target = 9\n",
        "Output: [0,1]\n",
        "Explanation: Because nums[0] + nums[1] == 9, we return [0, 1]."
      ],
      "metadata": {
        "id": "zkjgH-tmyXkt"
      }
    },
    {
      "cell_type": "code",
      "execution_count": null,
      "metadata": {
        "id": "BozbO_hWx3wJ",
        "colab": {
          "base_uri": "https://localhost:8080/"
        },
        "outputId": "292464d4-c368-4826-bd14-e0bc0cb1c2f4"
      },
      "outputs": [
        {
          "output_type": "execute_result",
          "data": {
            "text/plain": [
              "[0, 1]"
            ]
          },
          "metadata": {},
          "execution_count": 35
        }
      ],
      "source": [
        "def two_sum(*list,target):\n",
        "  def InterpolationSearch(lys, val):\n",
        "    low = 0\n",
        "    high = (len(lys) - 1)\n",
        "    while low <= high and val >= lys[low] and val <= lys[high]:\n",
        "        index = low + int(((float(high - low) / ( lys[high] - lys[low])) * ( val - lys[low])))\n",
        "        if lys[index] == val:\n",
        "            return index\n",
        "        if lys[index] < val:\n",
        "            low = index + 1;\n",
        "        else:\n",
        "            high = index - 1;\n",
        "    return -1\n",
        "  for i in range(int(len(list)/2)+1):\n",
        "    if(InterpolationSearch(list,target-list[i])!=-1):\n",
        "      return [i,InterpolationSearch(list,(target-list[i]))]\n",
        "two_sum(2,7,11,15,target=9)"
      ]
    },
    {
      "cell_type": "markdown",
      "source": [
        "Q2) Implement pow(x, n), which calculates x raised to the power n (i.e., xn).\n",
        "\n",
        "Example :\n",
        "\n",
        "Input: x = 2.00000, n = 10\n",
        "Output: 1024.00000"
      ],
      "metadata": {
        "id": "WXPNSBGaylvH"
      }
    },
    {
      "cell_type": "code",
      "source": [
        "def power(base,power):\n",
        "     ans = 1\n",
        "     for i in range(power):\n",
        "       ans = ans*base\n",
        "     return ans\n",
        "power(2,10)"
      ],
      "metadata": {
        "id": "JU-IyV82y1ME",
        "colab": {
          "base_uri": "https://localhost:8080/"
        },
        "outputId": "c4b5634f-0718-4d04-eba8-20b7feb2f482"
      },
      "execution_count": null,
      "outputs": [
        {
          "output_type": "execute_result",
          "data": {
            "text/plain": [
              "1024"
            ]
          },
          "metadata": {},
          "execution_count": 21
        }
      ]
    },
    {
      "cell_type": "markdown",
      "source": [
        "Q3) You are given a large integer represented as an integer, where each digits[i] is the ith digit of the integer. The digits are ordered from most significant to least significant in left-to-right order. The large integer does not contain any leading 0's.\n",
        "\n",
        "Increment the large integer by one and return the resulting array of digits.\n",
        "\n",
        "Example :\n",
        "\n",
        "Input: number  = 123 \n",
        "Output: [1,2,4]\n",
        "Explanation: The array represents the integer 123.\n",
        "Incrementing by one gives 123 + 1 = 124.\n",
        "Thus, the result should be [1,2,4]"
      ],
      "metadata": {
        "id": "GmtBxLgGy_pU"
      }
    },
    {
      "cell_type": "code",
      "source": [
        "import math\n",
        "def increment(number):\n",
        "        digit = []\n",
        "        n = number\n",
        "        for i in range(int(math.log(number,10))+1):\n",
        "          digit.append(n%10)\n",
        "          n = int((n-n%10)/10)\n",
        "        digit[0]=digit[0]+1\n",
        "        return digit[::-1]\n",
        "increment(123)"
      ],
      "metadata": {
        "id": "svlf0F3IzFFk",
        "outputId": "0304baf5-081b-4d61-a608-1b86d40202a3",
        "colab": {
          "base_uri": "https://localhost:8080/"
        }
      },
      "execution_count": null,
      "outputs": [
        {
          "output_type": "execute_result",
          "data": {
            "text/plain": [
              "[1, 2, 4]"
            ]
          },
          "metadata": {},
          "execution_count": 22
        }
      ]
    },
    {
      "cell_type": "markdown",
      "source": [
        "Q4) You are given an array prices where prices[i] is the price of a given stock on the ith day.\n",
        "You want to maximize your profit by choosing a single day to buy one stock and choosing a different day in the future to sell that stock.\n",
        "Return the maximum profit you can achieve from this transaction. If you cannot achieve any profit, return 0.\n",
        "\n",
        "Example :\n",
        "\n",
        "Input: prices = [7,1,5,3,6,4]\n",
        "Output: 5\n",
        "Explanation: Buy on day 2 (price = 1) and sell on day 5 (price = 6), profit = 6-1 = 5.\n",
        "Note that buying on day 2 and selling on day 1 is not allowed because you must buy before you sell."
      ],
      "metadata": {
        "id": "UKx7-lrVzLFT"
      }
    },
    {
      "cell_type": "code",
      "source": [
        "def max_profit(*prices):\n",
        "        profit = []\n",
        "        for i in range(len(prices)):\n",
        "          c = i-1\n",
        "          while(c<len(prices) and c>=0):\n",
        "            profit.append(prices[i]-prices[c])\n",
        "            c=c-1\n",
        "        if(max(profit)>0):\n",
        "          return max(profit)\n",
        "        else:\n",
        "          return 0\n",
        "max_profit(7,1,5,3,6,4)"
      ],
      "metadata": {
        "id": "rhfw0atozJsQ",
        "outputId": "68648a28-b61c-4f97-c140-3fc643389497",
        "colab": {
          "base_uri": "https://localhost:8080/"
        }
      },
      "execution_count": null,
      "outputs": [
        {
          "output_type": "execute_result",
          "data": {
            "text/plain": [
              "5"
            ]
          },
          "metadata": {},
          "execution_count": 24
        }
      ]
    },
    {
      "cell_type": "markdown",
      "source": [
        "Q5) Given an string x, return true if x is a \n",
        "palindrome, and false otherwise.\n",
        "\n",
        "Example :\n",
        "\n",
        "Input: x = 121\n",
        "Output: true\n",
        "Explanation: 121 reads as 121 from left to right and from right to left.\n"
      ],
      "metadata": {
        "id": "X6K-pIeJzmil"
      }
    },
    {
      "cell_type": "code",
      "source": [
        "def Palindrome(num: str):\n",
        "        isPalindrome = False\n",
        "        if(len(num)%2==0):\n",
        "          for i in range(int(len(num)/2)):\n",
        "            if(num[i]==num[-i-1]):\n",
        "              isPalindrome = True\n",
        "            else:\n",
        "              isPalindrome = False\n",
        "              break\n",
        "        else:\n",
        "          for i in range(int(len(num)/2)):\n",
        "            if(num[i]==num[-i-1]):\n",
        "              isPalindrome = True\n",
        "            else:\n",
        "              isPalindrome = False\n",
        "              break\n",
        "        return isPalindrome     \n",
        "Palindrome(\"1221\")"
      ],
      "metadata": {
        "id": "fYhVnOLb0bos",
        "colab": {
          "base_uri": "https://localhost:8080/"
        },
        "outputId": "d9526c4a-e20b-476a-df95-cd970fce9262"
      },
      "execution_count": null,
      "outputs": [
        {
          "output_type": "execute_result",
          "data": {
            "text/plain": [
              "True"
            ]
          },
          "metadata": {},
          "execution_count": 18
        }
      ]
    }
  ]
}